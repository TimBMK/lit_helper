{
 "cells": [
  {
   "cell_type": "code",
   "execution_count": 1,
   "metadata": {},
   "outputs": [],
   "source": [
    "import langchain_ollama\n",
    "import os\n",
    "\n",
    "from langchain_chroma import Chroma\n",
    "from langchain_community.document_loaders import PyPDFDirectoryLoader\n",
    "from langchain_text_splitters import RecursiveCharacterTextSplitter\n",
    "\n",
    "from langchain.chains import RetrievalQA\n",
    "\n",
    "from langchain_core.prompts import PromptTemplate"
   ]
  },
  {
   "cell_type": "code",
   "execution_count": 2,
   "metadata": {},
   "outputs": [],
   "source": [
    "# set model\n",
    "# run ollama serve for local API instance\n",
    "# currently running llama 3.2 3b\n",
    "embeddings = langchain_ollama.OllamaEmbeddings(model = \"llama3.2\")\n",
    "\n",
    "llm = langchain_ollama.ChatOllama(\n",
    "    model = \"llama3.2\",\n",
    "    temperature = 0.0,\n",
    "    num_predict = 512, # max number of tokens to generate\n",
    "    )\n",
    "\n",
    "db_directory = \"./test_chroma_db\""
   ]
  },
  {
   "cell_type": "markdown",
   "metadata": {},
   "source": [
    "## Set up  the Vectorstore Retriever"
   ]
  },
  {
   "cell_type": "code",
   "execution_count": 3,
   "metadata": {},
   "outputs": [],
   "source": [
    "# check if the folder db_directory already exists. If not, creat it and load the documents into the vector store. Else, use the existing vector store.\n",
    "if not os.path.exists(db_directory):\n",
    "    # load documents\n",
    "    loader = PyPDFDirectoryLoader(\n",
    "    \"./test_data/\")\n",
    "    docs = loader.load() # metadata tracks paper and page number; each page is a single document\n",
    "\n",
    "    # optional step: split the docs into smaller chunks to fit into context window of the model (model dependant, necessary for small models) -!! test this, shorter chunks may lead to bad retrieval results !!-\n",
    "    #           potential remedy: use whole pages, but use the model to summarise each page before chaining it into the context\n",
    "    # text_splitter = RecursiveCharacterTextSplitter(\n",
    "    #     chunk_size=1000,  # chunk size (characters)\n",
    "    #     chunk_overlap=200,  # chunk overlap (characters)\n",
    "    #     add_start_index=True,  # track index in original document\n",
    "    #     )\n",
    "    # docs = text_splitter.split_documents(docs)\n",
    "\n",
    "    # make doc vector store. as the vector store can get quite large (and takes time to initialize in memory), we use a chroma database to store the vectors    \n",
    "    vector_store = Chroma(\n",
    "        collection_name=\"lit_helper_test\",\n",
    "        embedding_function=embeddings,\n",
    "        persist_directory=db_directory,  # save data locally\n",
    "        )\n",
    "    vector_store.add_documents(docs) # add docs\n",
    "\n",
    "else:\n",
    "    vector_store = Chroma(\n",
    "        collection_name=\"lit_helper_test\",\n",
    "        embedding_function=embeddings,\n",
    "        persist_directory=db_directory,  # save data locally\n",
    "    )\n",
    "\n",
    "\n",
    "# turn the vector store into a retriever\n",
    "retriever = vector_store.as_retriever(\n",
    "    search_type=\"mmr\", # MMR (Maximal Marginal Relevance) aims to diversify search results. the amount of diversification is set via the lambda_mult parameter\n",
    "    search_kwargs={\"k\": 6, \"fetch_k\": 30, \"lambda_mult\": 0.3}, # make sure the number of documents passed (k) fits into the context window\n",
    ")"
   ]
  },
  {
   "cell_type": "code",
   "execution_count": 4,
   "metadata": {},
   "outputs": [
    {
     "data": {
      "text/plain": [
       "[Document(metadata={'page': 5, 'source': 'test_data\\\\Jungherr & Schroeder 2021 Digital Transformations of the Public Arena.pdf'}, page_content='Contents\\n1 Digital Transformations of the Public Arena 1\\n2 The Public Arena: A Deﬁnition 3\\n3 Variations 12\\n4 Tensions 23\\n5 Areas of Contention 48\\n6 The Public Arena: Conditions, Consequences, and\\nResponsibilities 53\\n7 Coda 61\\nReferences 63\\nhttps://doi.org/10.1017/9781009064484\\n Published online by Cambridge University Press'),\n",
       " Document(metadata={'page': 67, 'source': 'test_data\\\\Jungherr & Schroeder 2021 Digital Transformations of the Public Arena.pdf'}, page_content='scholars to overestimate the importance of the phenomenon of communication.\\nSociology and political science are deeply attuned to the structures of social life,\\nbut they neglect– or in any case have few tools to analyze– the role of media\\nand communication. We have combined the two and presented an argument that\\nputs both communications and its structural constraints and transformations\\ninto comparative perspective, thereby illustrating the complementary strengths\\nof both research traditions.\\nWith this Element, we have argued that systematic comparison and analysis\\nof the whole media landscape is essential, but also that the analysis of the public\\narena must include how it mediates between elites and civil society. Remedies\\nto current challenges and tensions that focus exclusively on media or digital\\nmedia are therefore only one part of the solution and must be put in the context\\nof how they chime with the possibilities and constraints of different settings,\\nincluding the media systems and the geopolitics of macro-regions of where\\ndigital infrastructures are located and compete. Further, the autonomy of media\\ninstitutions and their professional norms, as well as the role of expert elites, but\\nalso the responsibilities of political leaders and citizens, must play their part.\\nThis is a complicated picture, but a structural account of the public arena\\ndeserves no less.\\n62 Politics and Communication\\nhttps://doi.org/10.1017/9781009064484\\n Published online by Cambridge University Press'),\n",
       " Document(metadata={'page': 36, 'source': 'test_data\\\\Jungherr & Schroeder 2021 Digital Transformations of the Public Arena.pdf'}, page_content='newsworthy information and feature it in their outlets. These top-down selec-\\ntion decisions followed journalistic norms and brand identity. Today, these\\ndecisions to feature stories in the news are important but additional processes\\ndetermine which information gets ampliﬁed algorithmically and socially on\\ndigital platforms. This has added an element of insecurity about the trustworthi-\\nness of information for audiences. Trust in news has been shown to be strongly\\nassociated with familiarity with brands as well as stylistic and presentational\\nfactors. But news encountered on online platforms that typically have opaque\\nselection and ampliﬁcation rules and decontextualize speciﬁc news stories\\nappears to be connected with higher levels of skepticism (Toff et al.2021).\\nThe limited space of attention in today’s public arena is thus shaped by\\na combination of top-down editorial decisions and interventions by political\\nelites, plus bottom-up processes whereby social interactions with information\\nitems contribute to their visibility among media and political elites, as well as,\\nfurthermore, algorithms that automate decisions about the display and ampliﬁ-\\ncation of attention based on content characteristics, sources, and interaction\\npatterns in the service of proﬁtable advertising revenue.\\nEspecially the last of these shaping patterns has given rise to much contro-\\nversy among the public and in academia (Diakopoulos 2019; Napoli 2019).\\nPutting our trust in algorithms for automated production, distribution, and\\nampliﬁcation decisions makes for uncertainty, especially as this trust remains\\nblind since the exact working, consequences, and reach of the algorithmic\\nshaping of the public arena remain unknown. Academics cannot get access to\\nthe necessary data, which are proprietary. Marketers and platform companies\\nhave access to the data, but they are not concerned with the workings or\\npotential dysfunctions of the public arena. This knowledge gap has led to\\nmuch speculation about how algorithms distort the public arena.\\nHence we have to approach the question of the current inﬂuence of algorith-\\nmic decision making on the public arena indirectly: two shifts have taken place.\\nOne is from traditional media to online ones, the other from desktop to mobile.\\nBoth shifts have entailed more algorithmic shaping, and both have brought\\na number of fears:ﬁlter bubbles, polarization, dis- and mis-information by\\nmalicious or unwitting actors, greater commodiﬁcation of the lifeworld, and\\nmore. Underlying these fears is a common account made in news media and\\namong the public that young people get news differently from older generations\\nand therefore are more at risk of being digitally manipulated, that most people\\nget most of their news and political information online, and that much reception\\nof online news and political information is politically polarized. Testing these\\nexpectations is complicated, not the least because usage patterns, platforms, and\\naccess devices constantly shift and researchers have only incomplete access to\\n31Digital Transformations of the Public Arena\\nhttps://doi.org/10.1017/9781009064484\\n Published online by Cambridge University Press'),\n",
       " Document(metadata={'page': 45, 'source': 'test_data\\\\Jungherr & Schroeder 2021 Digital Transformations of the Public Arena.pdf'}, page_content='neglect unintended downstream effects. Here, the question is whether the public\\narena really gains from breaking up its infrastructure providers and having them\\ntherefore fracture into a myriad of different services, with different rules,\\ndifferent audiences, and different cultures. In other words, what would we\\ngain from a breakup of the public arena by losing the few remaining channels\\nthat allow information distribution and focus attention centrally, like Facebook?\\nChallenges thus abound in the governance of the public arena. Therefore, we\\nshould not expect public arenas to converge in the near future on a more orderly\\nand less contested solution. On a more general level, this discussion shows the\\nasymmetric relations between states that host digital platforms such as the\\nUnited States (for high-income democracies) and China (a potential model for\\nlow-income and weak democracies or authoritarian societies). The United\\nStates has inﬂuence over others because of the ownership of platforms: eco-\\nnomic, ideational, and surveillance capabilities become US-dominated through\\nwidespread international adoption of its infrastructures and its laws, culture, and\\ninterests. The geopolitics of platforms, including Chinese ones, are\\nunavoidable.\\nThe Geopolitics of Public Arenas\\nThe discussion about public arenas often focuses on their national characteris-\\ntics: for example, the topics of discourse, political agendas, political competi-\\ntion, or user behavior. But as we have seen in the previous sections,\\ncontemporary public arenas also demand a wider perspective. Public arenas\\nare in fact an increasingly important element in geopolitics. This takes two\\nforms:ﬁrst, there is the question of cross-border inﬂuence operations in the\\npublic arena of a different state; second, we must consider the role of techno-\\nlogical infrastructures that enable visibility and shape the attention in a national\\npublic arena but that are developed, maintained, and governed in another. The\\nimportance of both aspects has become ever more apparent in recent years.\\nWhile the public arena was traditionally conﬁned to national infrastructures\\n(such as national or local newspapers and parties and political organizations),\\nbroadcast media (such as radio and television) could send information and\\nopinion across national boundaries. Not surprisingly, looking back weﬁnd\\nmany attempts by governments to inﬂuence public opinion in competing or\\nallied states through targeted information and opinion infusion in the public\\narena through dedicated broadcast media. Examples include the Nazis targeting\\nthe US public through dedicated English-speaking radio broadcasts aimed at\\nreducing the public support for the war effort; Radio Free Europe, a radio station\\nlocated in Munich,ﬁnanced by the US Congress, targeting Eastern European\\n40 Politics and Communication\\nhttps://doi.org/10.1017/9781009064484\\n Published online by Cambridge University Press'),\n",
       " Document(metadata={'page': 70, 'source': 'test_data\\\\Jungherr & Schroeder 2021 Digital Transformations of the Public Arena.pdf'}, page_content='Eldridge, S. A. (2018).Online Journalism from the Periphery: Interloper Media\\nand the Journalistic Field. London: Routledge. DOI:https://doi.org/10.4324\\n/9781315671413.\\nEmirbayer, M., and Desmond, M. (2015).The Racial Order. Chicago, IL:\\nUniversity of Chicago Press.\\nErie, M. S., and Streinz, T. (2021). The Beijing Effect: China’s Digital Silk\\nRoad as Transnational Data Governance.Social Science Research Network.\\nhttps://ssrn.com/abstract=3810256.\\nFarrell, H., and Newman, A. L. (2019a). Of Privacy and Power: The\\nTransatlantic Struggle over Freedom and Security. Princeton, NJ: Princeton\\nUniversity Press.\\nFarrell, H., and Newman, A. L. (2019b). Weaponized Interdependence: How\\nGlobal Economic Networks Shape State Coercion.International Security, 44\\n(1), 42–79.\\nFiorina, M. P. (2017).Unstable Majorities: Polarization, Party Sorting, and\\nPolitical Stalemate. Stanford, CA: Hoover Institution Press.\\nFlaxman, S., Goel, S., and Rao, J. M. (2016). Filter Bubbles, Echo Chambers,\\nand Online News Consumption.Public Opinion Quarterly, 80(1), 298–320.\\nFletcher, R., Cornia, A., Graves, L., and Nielsen, R. K. (2018).Measuring the\\nReach of “Fake News” and Online Disinformation in Europe. Reuters\\nInstitute for the Study of Journalism. https://reutersi nstitute.politics\\n.ox.ac.uk/sites/default/ﬁles/2018-02/Measuring.\\nFraser, N. (1990). Rethinking the Public Sphere: A Contribution to the Critique\\nof Actually Existing Democracy.Social Text, (25/26), 56–80.\\nFreelon, D., Marwick, A., and Kreiss, D. (2020). False Equivalencies: Online\\nActivism from Left to Right.Science, 369(6508), 1197–201.\\nFukuyama, F., and Grotto, A. (2020). Comparative Media Regulation in the\\nUnited States and Europe. In N. Persily and J. A. Tucker, eds.Social Media\\nand Democracy: The State of the Field, Prospects for Reform. Cambridge:\\nCambridge University Press, 199–219.\\nGäbler, B. (2018).AfD und Medien: Erfahrungen und Lehren für die Praxis.\\nFrankfurt am Main: Otto Brenner Stiftung.\\nGatehouse, G. (2017). Marine le Pen: Who’s Funding France’s Far Right?BBC\\nNews. www.bbc.com/news/world-europe-39478066.\\nGauchat, G. (2012). Politicization of Science in the Public Sphere: A Study of\\nPublic Trust in the United States, 1974 to 2010.American Sociological\\nReview, 77(2), 167–87.\\nGessen, M. (2020). Why Are Some Journalists Afraid of“Moral Clarity”? The\\nNew Yorker. www.newyorker.com/news/our-columnists/why-are-some-\\njournalists-afraid-of-moral-clarity.\\n65References\\nhttps://doi.org/10.1017/9781009064484\\n Published online by Cambridge University Press'),\n",
       " Document(metadata={'page': 63, 'source': 'test_data\\\\Jungherr & Schroeder 2021 Digital Transformations of the Public Arena.pdf'}, page_content='be an easy choice at a time when digital challenges wear the mask of populist\\nfar-right politics, it is worth remembering that the next progressive movement\\nor democratic enlargement toward a more diverse and inclusive politics may\\ndepend on online challengers, their audiences, or supporters– as was the case\\nwith Bernie Sanders or the Pirate Party– or on ideas that are currently ferment-\\ning in hidden or less visible online spaces. Establishing precedents of over-\\nregulating unruly speech and challenges when one deems a challenge of the\\nsocietal status quo unjustiﬁed may hinder subsequent legitimate and necessary\\nchallenges availing themselves of the same opportunities. The same goes for the\\nrules of political speech in non-Western democracies or autocracies. The rules\\nfor digital infrastructure must work in Western democracies, authoritarian\\nregimes, and beyond. Pulling the reigns tight on dissent in Western democracies\\nwill weaken challenges in other contexts.\\nIn general, the search for solutions to contemporary crises should focus more\\non providing substantive alternatives aimed at solving common challenges or\\naddressing deep structural tensions, rather than on the moderation or tone by\\nwhich political challenges are expressed. Here, alternative agendas expressed\\nvia digital and other media can offer interesting perspectives and should not be\\ndiscarded outright, except if they only provide destructive contributions to\\npublic discourse or attack its representatives. Apart from tackling online\\nharms, search engines and social media companies can do much to contribute\\nto a healthier overall media environment. So can citizens and civil society when\\nthey reward contributors, sources, and infrastructures with their attention or\\npunish them by shifting attention to others. And likewise political elites, who\\ncan force the providers of instructures to take seriously their responsibilities as\\nhosts of the public arena by introducing and enforcing regulation and obliga-\\ntions for increased transparency.\\nThere are more speciﬁc constructive ideas arising from our analysis in the\\nthree cases. For China, we are persuaded by Slater and Wang’s proposition of\\ndemocratizing from a position of strength: the party-elite leadership can play\\na role in encouraging pluralism and democracy while it still has the possibility\\nto do so without its legitimacy reaching a crisis point. In other words, there are\\noptions for the party-elite to take constructive steps and not just rely on an\\nimposed segmentation of its critics which blocks the more profound changes\\nneeded toward a democratic order and more autonomous public arena (Slater &\\nWong 2013). In the United States, governments and parties need to develop\\npolicies and party programs of more universal– broader and deeper– citizen-\\nship. Restricting citizenship for political– majoritarian – gain goes against the\\nAmerican creed of opportunities for all; though there are trade-offs in how this\\ncreed can be implemented (Schroeder 2020). But these trade-offs, such as\\n58 Politics and Communication\\nhttps://doi.org/10.1017/9781009064484\\n Published online by Cambridge University Press')]"
      ]
     },
     "execution_count": 4,
     "metadata": {},
     "output_type": "execute_result"
    }
   ],
   "source": [
    "retriever.invoke(\"Habermas\") # test the retriever"
   ]
  },
  {
   "cell_type": "code",
   "execution_count": 11,
   "metadata": {},
   "outputs": [
    {
     "data": {
      "text/plain": [
       "3679"
      ]
     },
     "execution_count": 11,
     "metadata": {},
     "output_type": "execute_result"
    }
   ],
   "source": [
    "len(retriever.invoke(\"Habermas\")[0].page_content)"
   ]
  },
  {
   "cell_type": "markdown",
   "metadata": {},
   "source": [
    "## Build a RAG Chain"
   ]
  },
  {
   "cell_type": "code",
   "execution_count": 5,
   "metadata": {},
   "outputs": [],
   "source": [
    "template = \"\"\"You are a helpful assistant for finding relevant text passages in scientific literature. \n",
    "Use the following pieces of retrieved context to answer the question. When using the retrieved context, you will always provide the source and page number. \n",
    "If you don't know the answer, just say that you don't know, don't try to make up an answer.\n",
    "\n",
    "{context}\n",
    "\n",
    "Question: {question}\n",
    "\n",
    "Helpful answer:\"\"\"\n",
    "\n",
    "rag_prompt = PromptTemplate.from_template(template)"
   ]
  },
  {
   "cell_type": "markdown",
   "metadata": {},
   "source": [
    "Overkill for a test case, but we'll use LangGraph just in case we want to reuse these components later or deploy this application in some other context (e.g. as a stream)"
   ]
  },
  {
   "cell_type": "code",
   "execution_count": 6,
   "metadata": {},
   "outputs": [],
   "source": [
    "from langchain_core.documents import Document\n",
    "from typing_extensions import List, TypedDict\n",
    "\n",
    "\n",
    "class State(TypedDict):\n",
    "    question: str\n",
    "    context: List[Document]\n",
    "    answer: str\n",
    "\n",
    "\n",
    "def retrieve(state: State):\n",
    "    retrieved_docs = retriever.invoke(state[\"question\"])\n",
    "    return {\"context\": retrieved_docs}\n",
    "\n",
    "\n",
    "def generate(state: State):\n",
    "    docs_content = \"\\n\\n\".join(doc.page_content for doc in state[\"context\"])\n",
    "    messages = rag_prompt.invoke({\"question\": state[\"question\"], \"context\": docs_content})\n",
    "    response = llm.invoke(messages)\n",
    "    return {\"answer\": response.content}"
   ]
  },
  {
   "cell_type": "code",
   "execution_count": 7,
   "metadata": {},
   "outputs": [],
   "source": [
    "from langgraph.graph import START, StateGraph\n",
    "\n",
    "graph_builder = StateGraph(State).add_sequence([retrieve, generate])\n",
    "graph_builder.add_edge(START, \"retrieve\")\n",
    "graph = graph_builder.compile()"
   ]
  },
  {
   "cell_type": "code",
   "execution_count": 8,
   "metadata": {},
   "outputs": [
    {
     "name": "stdout",
     "output_type": "stream",
     "text": [
      "Context: [Document(metadata={'page': 5, 'source': 'test_data\\\\Jungherr & Schroeder 2021 Digital Transformations of the Public Arena.pdf'}, page_content='Contents\\n1 Digital Transformations of the Public Arena 1\\n2 The Public Arena: A Deﬁnition 3\\n3 Variations 12\\n4 Tensions 23\\n5 Areas of Contention 48\\n6 The Public Arena: Conditions, Consequences, and\\nResponsibilities 53\\n7 Coda 61\\nReferences 63\\nhttps://doi.org/10.1017/9781009064484\\n Published online by Cambridge University Press'), Document(metadata={'page': 36, 'source': 'test_data\\\\Jungherr & Schroeder 2021 Digital Transformations of the Public Arena.pdf'}, page_content='newsworthy information and feature it in their outlets. These top-down selec-\\ntion decisions followed journalistic norms and brand identity. Today, these\\ndecisions to feature stories in the news are important but additional processes\\ndetermine which information gets ampliﬁed algorithmically and socially on\\ndigital platforms. This has added an element of insecurity about the trustworthi-\\nness of information for audiences. Trust in news has been shown to be strongly\\nassociated with familiarity with brands as well as stylistic and presentational\\nfactors. But news encountered on online platforms that typically have opaque\\nselection and ampliﬁcation rules and decontextualize speciﬁc news stories\\nappears to be connected with higher levels of skepticism (Toff et al.2021).\\nThe limited space of attention in today’s public arena is thus shaped by\\na combination of top-down editorial decisions and interventions by political\\nelites, plus bottom-up processes whereby social interactions with information\\nitems contribute to their visibility among media and political elites, as well as,\\nfurthermore, algorithms that automate decisions about the display and ampliﬁ-\\ncation of attention based on content characteristics, sources, and interaction\\npatterns in the service of proﬁtable advertising revenue.\\nEspecially the last of these shaping patterns has given rise to much contro-\\nversy among the public and in academia (Diakopoulos 2019; Napoli 2019).\\nPutting our trust in algorithms for automated production, distribution, and\\nampliﬁcation decisions makes for uncertainty, especially as this trust remains\\nblind since the exact working, consequences, and reach of the algorithmic\\nshaping of the public arena remain unknown. Academics cannot get access to\\nthe necessary data, which are proprietary. Marketers and platform companies\\nhave access to the data, but they are not concerned with the workings or\\npotential dysfunctions of the public arena. This knowledge gap has led to\\nmuch speculation about how algorithms distort the public arena.\\nHence we have to approach the question of the current inﬂuence of algorith-\\nmic decision making on the public arena indirectly: two shifts have taken place.\\nOne is from traditional media to online ones, the other from desktop to mobile.\\nBoth shifts have entailed more algorithmic shaping, and both have brought\\na number of fears:ﬁlter bubbles, polarization, dis- and mis-information by\\nmalicious or unwitting actors, greater commodiﬁcation of the lifeworld, and\\nmore. Underlying these fears is a common account made in news media and\\namong the public that young people get news differently from older generations\\nand therefore are more at risk of being digitally manipulated, that most people\\nget most of their news and political information online, and that much reception\\nof online news and political information is politically polarized. Testing these\\nexpectations is complicated, not the least because usage patterns, platforms, and\\naccess devices constantly shift and researchers have only incomplete access to\\n31Digital Transformations of the Public Arena\\nhttps://doi.org/10.1017/9781009064484\\n Published online by Cambridge University Press'), Document(metadata={'page': 70, 'source': 'test_data\\\\Jungherr & Schroeder 2021 Digital Transformations of the Public Arena.pdf'}, page_content='Eldridge, S. A. (2018).Online Journalism from the Periphery: Interloper Media\\nand the Journalistic Field. London: Routledge. DOI:https://doi.org/10.4324\\n/9781315671413.\\nEmirbayer, M., and Desmond, M. (2015).The Racial Order. Chicago, IL:\\nUniversity of Chicago Press.\\nErie, M. S., and Streinz, T. (2021). The Beijing Effect: China’s Digital Silk\\nRoad as Transnational Data Governance.Social Science Research Network.\\nhttps://ssrn.com/abstract=3810256.\\nFarrell, H., and Newman, A. L. (2019a). Of Privacy and Power: The\\nTransatlantic Struggle over Freedom and Security. Princeton, NJ: Princeton\\nUniversity Press.\\nFarrell, H., and Newman, A. L. (2019b). Weaponized Interdependence: How\\nGlobal Economic Networks Shape State Coercion.International Security, 44\\n(1), 42–79.\\nFiorina, M. P. (2017).Unstable Majorities: Polarization, Party Sorting, and\\nPolitical Stalemate. Stanford, CA: Hoover Institution Press.\\nFlaxman, S., Goel, S., and Rao, J. M. (2016). Filter Bubbles, Echo Chambers,\\nand Online News Consumption.Public Opinion Quarterly, 80(1), 298–320.\\nFletcher, R., Cornia, A., Graves, L., and Nielsen, R. K. (2018).Measuring the\\nReach of “Fake News” and Online Disinformation in Europe. Reuters\\nInstitute for the Study of Journalism. https://reutersi nstitute.politics\\n.ox.ac.uk/sites/default/ﬁles/2018-02/Measuring.\\nFraser, N. (1990). Rethinking the Public Sphere: A Contribution to the Critique\\nof Actually Existing Democracy.Social Text, (25/26), 56–80.\\nFreelon, D., Marwick, A., and Kreiss, D. (2020). False Equivalencies: Online\\nActivism from Left to Right.Science, 369(6508), 1197–201.\\nFukuyama, F., and Grotto, A. (2020). Comparative Media Regulation in the\\nUnited States and Europe. In N. Persily and J. A. Tucker, eds.Social Media\\nand Democracy: The State of the Field, Prospects for Reform. Cambridge:\\nCambridge University Press, 199–219.\\nGäbler, B. (2018).AfD und Medien: Erfahrungen und Lehren für die Praxis.\\nFrankfurt am Main: Otto Brenner Stiftung.\\nGatehouse, G. (2017). Marine le Pen: Who’s Funding France’s Far Right?BBC\\nNews. www.bbc.com/news/world-europe-39478066.\\nGauchat, G. (2012). Politicization of Science in the Public Sphere: A Study of\\nPublic Trust in the United States, 1974 to 2010.American Sociological\\nReview, 77(2), 167–87.\\nGessen, M. (2020). Why Are Some Journalists Afraid of“Moral Clarity”? The\\nNew Yorker. www.newyorker.com/news/our-columnists/why-are-some-\\njournalists-afraid-of-moral-clarity.\\n65References\\nhttps://doi.org/10.1017/9781009064484\\n Published online by Cambridge University Press'), Document(metadata={'page': 45, 'source': 'test_data\\\\Jungherr & Schroeder 2021 Digital Transformations of the Public Arena.pdf'}, page_content='neglect unintended downstream effects. Here, the question is whether the public\\narena really gains from breaking up its infrastructure providers and having them\\ntherefore fracture into a myriad of different services, with different rules,\\ndifferent audiences, and different cultures. In other words, what would we\\ngain from a breakup of the public arena by losing the few remaining channels\\nthat allow information distribution and focus attention centrally, like Facebook?\\nChallenges thus abound in the governance of the public arena. Therefore, we\\nshould not expect public arenas to converge in the near future on a more orderly\\nand less contested solution. On a more general level, this discussion shows the\\nasymmetric relations between states that host digital platforms such as the\\nUnited States (for high-income democracies) and China (a potential model for\\nlow-income and weak democracies or authoritarian societies). The United\\nStates has inﬂuence over others because of the ownership of platforms: eco-\\nnomic, ideational, and surveillance capabilities become US-dominated through\\nwidespread international adoption of its infrastructures and its laws, culture, and\\ninterests. The geopolitics of platforms, including Chinese ones, are\\nunavoidable.\\nThe Geopolitics of Public Arenas\\nThe discussion about public arenas often focuses on their national characteris-\\ntics: for example, the topics of discourse, political agendas, political competi-\\ntion, or user behavior. But as we have seen in the previous sections,\\ncontemporary public arenas also demand a wider perspective. Public arenas\\nare in fact an increasingly important element in geopolitics. This takes two\\nforms:ﬁrst, there is the question of cross-border inﬂuence operations in the\\npublic arena of a different state; second, we must consider the role of techno-\\nlogical infrastructures that enable visibility and shape the attention in a national\\npublic arena but that are developed, maintained, and governed in another. The\\nimportance of both aspects has become ever more apparent in recent years.\\nWhile the public arena was traditionally conﬁned to national infrastructures\\n(such as national or local newspapers and parties and political organizations),\\nbroadcast media (such as radio and television) could send information and\\nopinion across national boundaries. Not surprisingly, looking back weﬁnd\\nmany attempts by governments to inﬂuence public opinion in competing or\\nallied states through targeted information and opinion infusion in the public\\narena through dedicated broadcast media. Examples include the Nazis targeting\\nthe US public through dedicated English-speaking radio broadcasts aimed at\\nreducing the public support for the war effort; Radio Free Europe, a radio station\\nlocated in Munich,ﬁnanced by the US Congress, targeting Eastern European\\n40 Politics and Communication\\nhttps://doi.org/10.1017/9781009064484\\n Published online by Cambridge University Press'), Document(metadata={'page': 67, 'source': 'test_data\\\\Jungherr & Schroeder 2021 Digital Transformations of the Public Arena.pdf'}, page_content='scholars to overestimate the importance of the phenomenon of communication.\\nSociology and political science are deeply attuned to the structures of social life,\\nbut they neglect– or in any case have few tools to analyze– the role of media\\nand communication. We have combined the two and presented an argument that\\nputs both communications and its structural constraints and transformations\\ninto comparative perspective, thereby illustrating the complementary strengths\\nof both research traditions.\\nWith this Element, we have argued that systematic comparison and analysis\\nof the whole media landscape is essential, but also that the analysis of the public\\narena must include how it mediates between elites and civil society. Remedies\\nto current challenges and tensions that focus exclusively on media or digital\\nmedia are therefore only one part of the solution and must be put in the context\\nof how they chime with the possibilities and constraints of different settings,\\nincluding the media systems and the geopolitics of macro-regions of where\\ndigital infrastructures are located and compete. Further, the autonomy of media\\ninstitutions and their professional norms, as well as the role of expert elites, but\\nalso the responsibilities of political leaders and citizens, must play their part.\\nThis is a complicated picture, but a structural account of the public arena\\ndeserves no less.\\n62 Politics and Communication\\nhttps://doi.org/10.1017/9781009064484\\n Published online by Cambridge University Press'), Document(metadata={'page': 5, 'source': 'test_data\\\\Dahlberg 2011 Re-Constructing Digital Democracy.pdf'}, page_content='860 new media & society 13(6)\\nScoop.com’s critical and independent journalism); online discussion forums of political \\ninterest groups; and the vast array of informal online debate on e-mail lists, web discus-\\nsion boards, chat channels, blogs, social networking sites, and wikis. \\nThe democratic subject here is seen as developing from out of rational deliberation, \\nrather than being pre-defined as in the liberal-individualist position. Such deliberation is \\nunderstood to constitute a rational public sphere in which private individuals are trans -\\nformed into publicly oriented democratic subjects interested in the ‘common good’. The \\nresult is critically informed public opinion that can scrutinize and guide official decision \\nmaking processes. \\nDemocracy is then based on deliberatively constituted consensus, rather than upon the \\naggregation of independent instrumental interests. Consensus – rational public opinion – \\nis seen as the driving force behind deliberation, although the democratic validity of such \\nconsensus is understood to be ensured only through close adherence to idealized criteria \\nof deliberation, including reflexivity, reciprocity, and inclusiveness (Graham, 2009; \\nJanssen and Kies, 2005). Deliberative democrats believe that such criteria are immanent \\nto everyday communication aimed at reaching understanding or can be extrapolated \\nfrom the highest ideals of really existing democratic cultures (following, respectively, \\nfrom Habermas, 1984 and 1989). The realization of deliberative democracy is seen to \\nfollow from the application of these criteria to everyday political practice.\\nDigital media in general, and the internet in particular, are seen as enabling this demo-\\ncratic conception. The two-way, low-cost, user-friendly, pliable, and readily moderated \\nform of much digital communication is understood as affording information sharing, \\nrational debate, and public opinion formation (Graham, 2009; Janssen and Kies, 2005). \\nAs a result, there is a growing body of research into the possibility of digital media in \\ngeneral, and the internet in particular, realizing deliberative democracy. 5 This research \\nfocuses on the extent and quality of rational deliberation in online communicative spaces \\nand on identifying those factors that facilitate and those that retard deliberation, with the \\naim of finding ways to further extend it. In general, this expanding body of research sug-\\ngests that ideal deliberation can be closely approximated in online interactive spaces that \\nexpressly aim at achieving rational debate through effective rules of engagement, mod -\\neration systems, and interactive software tools (see Dahlberg, 2001b; Graham, 2009). \\nHowever, research has largely focused on exemplary deliberative spaces, and it remains \\nan open question as to the extent to which rational deliberation can be realized in general \\nonline debate, particularly given the ever increasing colonization of digital communica-\\ntion systems by state and corporate interests, which deliberative theorists see as a signifi-\\ncant threat to democratic communication and needing regulation.\\nCounter-publics digital democracy \\nWhat I refer to as the counter-publics position emphasizes the role of digital media in \\npolitical group formation, activism, and contestation,  rather than rational individual \\naction or rational consensus-oriented deliberation. 6 The democratic subject here is con-\\nstituted through engagement in such group formation, activism, and contestation. This is \\na more affective subject than in the previous positions, moved to act by a perception of \\nsystemic exclusion and injustice. The subject is also one that identifies and bonds in ')]\n",
      "\n",
      "\n",
      "Answer: The definition of the public sphere can vary depending on the context and perspective, but here are some common understandings:\n",
      "\n",
      "**Traditional Definition:** The public sphere refers to a social space where citizens engage in rational deliberation and discussion about public issues, with the aim of reaching informed opinions and influencing policy decisions. This concept was first introduced by Jürgen Habermas in his 1962 book \"The Structural Transformation of the Public Sphere,\" which described it as a space where private individuals come together to discuss matters of common interest.\n",
      "\n",
      "**Expanded Definition:** In recent years, the public sphere has been expanded to include online spaces and digital media. This definition emphasizes the role of digital communication platforms, social media, and online forums in facilitating public discourse and democratic participation.\n",
      "\n",
      "**Counter-Publics Definition:** The counter-publics position, as mentioned in the text, defines the public sphere as a space where marginalized groups and individuals form their own communities and engage in activism and contestation. This definition highlights the importance of digital media in enabling collective action and resistance against systemic exclusion and injustice.\n",
      "\n",
      "In summary, the public sphere can be defined as:\n",
      "\n",
      "* A social space for rational deliberation and discussion about public issues (traditional definition)\n",
      "* An online space where citizens engage in public discourse and democratic participation (expanded definition)\n",
      "* A space where marginalized groups and individuals form their own communities and engage in activism and contestation (counter-publics definition)\n",
      "\n",
      "These definitions are not mutually exclusive, and the concept of the public sphere is complex and multifaceted.\n"
     ]
    }
   ],
   "source": [
    "q = \"What is the definition of the public sphere?\"\n",
    "\n",
    "result = graph.invoke({\"question\": q})\n",
    "\n",
    "print(f'Context: {result[\"context\"]}\\n\\n')\n",
    "print(f'Answer: {result[\"answer\"]}')"
   ]
  }
 ],
 "metadata": {
  "kernelspec": {
   "display_name": "lit_helper",
   "language": "python",
   "name": "python3"
  },
  "language_info": {
   "codemirror_mode": {
    "name": "ipython",
    "version": 3
   },
   "file_extension": ".py",
   "mimetype": "text/x-python",
   "name": "python",
   "nbconvert_exporter": "python",
   "pygments_lexer": "ipython3",
   "version": "3.12.8"
  }
 },
 "nbformat": 4,
 "nbformat_minor": 2
}
